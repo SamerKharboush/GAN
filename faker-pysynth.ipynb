{
 "cells": [
  {
   "cell_type": "code",
   "execution_count": 1,
   "metadata": {},
   "outputs": [
    {
     "name": "stdout",
     "output_type": "stream",
     "text": [
      "                name                         email                 phone\n",
      "0     Elizabeth Cook         michael85@example.net    688-172-0708x30138\n",
      "1        Samuel Hall           vmartin@example.net    462.662.0743x64796\n",
      "2      Arthur Morrow  middletontimothy@example.org         (549)278-3189\n",
      "3      Daniel Robles     williammurphy@example.org       +1-657-705-5552\n",
      "4  Anthony Ortega IV        cranepenny@example.org     680-057-5163x0464\n",
      "5      Holly Parrish        michelle32@example.net     337.855.4171x0327\n",
      "6         James Long         rwilliams@example.net  001-566-894-9851x860\n",
      "7       Kelly Romero         lisawalsh@example.com       +1-376-771-6286\n",
      "8    Olivia Benjamin       douglasryan@example.net          095.074.5036\n",
      "9     Sharon Jackson       alvareztami@example.com   (778)707-8616x05152\n"
     ]
    },
    {
     "name": "stderr",
     "output_type": "stream",
     "text": [
      "/tmp/ipykernel_1618/2379407958.py:14: FutureWarning: The frame.append method is deprecated and will be removed from pandas in a future version. Use pandas.concat instead.\n",
      "  df = df.append({'name': name, 'email': email, 'phone': phone}, ignore_index=True)\n",
      "/tmp/ipykernel_1618/2379407958.py:14: FutureWarning: The frame.append method is deprecated and will be removed from pandas in a future version. Use pandas.concat instead.\n",
      "  df = df.append({'name': name, 'email': email, 'phone': phone}, ignore_index=True)\n",
      "/tmp/ipykernel_1618/2379407958.py:14: FutureWarning: The frame.append method is deprecated and will be removed from pandas in a future version. Use pandas.concat instead.\n",
      "  df = df.append({'name': name, 'email': email, 'phone': phone}, ignore_index=True)\n",
      "/tmp/ipykernel_1618/2379407958.py:14: FutureWarning: The frame.append method is deprecated and will be removed from pandas in a future version. Use pandas.concat instead.\n",
      "  df = df.append({'name': name, 'email': email, 'phone': phone}, ignore_index=True)\n",
      "/tmp/ipykernel_1618/2379407958.py:14: FutureWarning: The frame.append method is deprecated and will be removed from pandas in a future version. Use pandas.concat instead.\n",
      "  df = df.append({'name': name, 'email': email, 'phone': phone}, ignore_index=True)\n",
      "/tmp/ipykernel_1618/2379407958.py:14: FutureWarning: The frame.append method is deprecated and will be removed from pandas in a future version. Use pandas.concat instead.\n",
      "  df = df.append({'name': name, 'email': email, 'phone': phone}, ignore_index=True)\n",
      "/tmp/ipykernel_1618/2379407958.py:14: FutureWarning: The frame.append method is deprecated and will be removed from pandas in a future version. Use pandas.concat instead.\n",
      "  df = df.append({'name': name, 'email': email, 'phone': phone}, ignore_index=True)\n",
      "/tmp/ipykernel_1618/2379407958.py:14: FutureWarning: The frame.append method is deprecated and will be removed from pandas in a future version. Use pandas.concat instead.\n",
      "  df = df.append({'name': name, 'email': email, 'phone': phone}, ignore_index=True)\n",
      "/tmp/ipykernel_1618/2379407958.py:14: FutureWarning: The frame.append method is deprecated and will be removed from pandas in a future version. Use pandas.concat instead.\n",
      "  df = df.append({'name': name, 'email': email, 'phone': phone}, ignore_index=True)\n",
      "/tmp/ipykernel_1618/2379407958.py:14: FutureWarning: The frame.append method is deprecated and will be removed from pandas in a future version. Use pandas.concat instead.\n",
      "  df = df.append({'name': name, 'email': email, 'phone': phone}, ignore_index=True)\n"
     ]
    }
   ],
   "source": [
    "import pandas as pd\n",
    "from faker import Faker\n",
    "\n",
    "fake = Faker()\n",
    "\n",
    "# Create a Pandas DataFrame with three columns\n",
    "df = pd.DataFrame(columns=['name', 'email', 'phone'])\n",
    "\n",
    "# Generate 10 fake customer names, email addresses, and phone numbers\n",
    "for _ in range(10):\n",
    "    name = fake.name()\n",
    "    email = fake.email()\n",
    "    phone = fake.phone_number()\n",
    "    df = df.append({'name': name, 'email': email, 'phone': phone}, ignore_index=True)\n",
    "\n",
    "# Print the Pandas DataFrame\n",
    "print(df)\n"
   ]
  },
  {
   "cell_type": "code",
   "execution_count": 12,
   "metadata": {},
   "outputs": [
    {
     "ename": "TypeError",
     "evalue": "'module' object is not callable",
     "output_type": "error",
     "traceback": [
      "\u001b[0;31m---------------------------------------------------------------------------\u001b[0m",
      "\u001b[0;31mTypeError\u001b[0m                                 Traceback (most recent call last)",
      "Cell \u001b[0;32mIn[12], line 14\u001b[0m\n\u001b[1;32m     11\u001b[0m num_classes \u001b[39m=\u001b[39m \u001b[39m2\u001b[39m\n\u001b[1;32m     13\u001b[0m \u001b[39m# Create a synthetic dataset using PySynth\u001b[39;00m\n\u001b[0;32m---> 14\u001b[0m synth \u001b[39m=\u001b[39m pysynth(num_samples\u001b[39m=\u001b[39;49mnum_samples, num_features\u001b[39m=\u001b[39;49mnum_features, num_classes\u001b[39m=\u001b[39;49mnum_classes)\n\u001b[1;32m     16\u001b[0m \u001b[39m# Assign the feature matrix and class labels to the DataFrame\u001b[39;00m\n\u001b[1;32m     17\u001b[0m df[\u001b[39m'\u001b[39m\u001b[39mFeature 1\u001b[39m\u001b[39m'\u001b[39m] \u001b[39m=\u001b[39m pysynth\u001b[39m.\u001b[39mX[:, \u001b[39m0\u001b[39m]\n",
      "\u001b[0;31mTypeError\u001b[0m: 'module' object is not callable"
     ]
    }
   ],
   "source": [
    "import pandas as pd\n",
    "import pysynth\n",
    "\n",
    "\n",
    "# Create a DataFrame with three columns: 'Feature 1', 'Feature 2', and 'Label'\n",
    "df = pd.DataFrame(columns=['Feature 1', 'Feature 2', 'Label'])\n",
    "\n",
    "# Define the number of samples, features, and classes\n",
    "num_samples = 1000\n",
    "num_features = 2\n",
    "num_classes = 2\n",
    "\n",
    "# Create a synthetic dataset using PySynth\n",
    "synth = pysynth(num_samples=num_samples, num_features=num_features, num_classes=num_classes)\n",
    "\n",
    "# Assign the feature matrix and class labels to the DataFrame\n",
    "df['Feature 1'] = pysynth.X[:, 0]\n",
    "df['Feature 2'] = pysynth.X[:, 1]\n",
    "df['Label'] = pysynth.y\n",
    "\n",
    "# Print the first 5 rows of the DataFrame\n",
    "print(df.head())\n"
   ]
  },
  {
   "cell_type": "code",
   "execution_count": null,
   "metadata": {},
   "outputs": [],
   "source": []
  }
 ],
 "metadata": {
  "kernelspec": {
   "display_name": "Python 3",
   "language": "python",
   "name": "python3"
  },
  "language_info": {
   "codemirror_mode": {
    "name": "ipython",
    "version": 3
   },
   "file_extension": ".py",
   "mimetype": "text/x-python",
   "name": "python",
   "nbconvert_exporter": "python",
   "pygments_lexer": "ipython3",
   "version": "3.9.16"
  },
  "orig_nbformat": 4
 },
 "nbformat": 4,
 "nbformat_minor": 2
}

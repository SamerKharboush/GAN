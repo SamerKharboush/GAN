{
  "cells": [
    {
      "cell_type": "markdown",
      "metadata": {
        "id": "view-in-github",
        "colab_type": "text"
      },
      "source": [
        "<a href=\"https://colab.research.google.com/github/SamerKharboush/GAN/blob/main/tensor-sk.ipynb\" target=\"_parent\"><img src=\"https://colab.research.google.com/assets/colab-badge.svg\" alt=\"Open In Colab\"/></a>"
      ]
    },
    {
      "cell_type": "markdown",
      "metadata": {
        "id": "Xf309c9RnMtG"
      },
      "source": [
        "# GAN model using TensorFlow to generate synthetic tabular data for the given dataset.\n",
        "\n",
        "First, let's import the necessary libraries and load the dataset."
      ]
    },
    {
      "cell_type": "code",
      "execution_count": null,
      "metadata": {
        "id": "8pJmZQ0SnMtO"
      },
      "outputs": [],
      "source": [
        "import warnings\n",
        "\n",
        "import numpy as np\n",
        "import pandas as pd\n",
        "import matplotlib.pyplot as plt\n",
        "import seaborn as sns\n",
        "import tensorflow as tf\n",
        "from tensorflow.keras import layers\n",
        "\n",
        "\n",
        "warnings.filterwarnings(\"ignore\")\n"
      ]
    },
    {
      "cell_type": "code",
      "execution_count": null,
      "metadata": {
        "colab": {
          "base_uri": "https://localhost:8080/",
          "height": 288
        },
        "id": "zoU5tMrmnMtR",
        "outputId": "90e17da4-4e3d-4016-a872-1b89685fc736"
      },
      "outputs": [
        {
          "name": "stdout",
          "output_type": "stream",
          "text": [
            "(381109, 12)\n"
          ]
        },
        {
          "data": {
            "text/html": [
              "\n",
              "  <div id=\"df-408d0c53-d226-4b2e-a002-5ae6645f226c\">\n",
              "    <div class=\"colab-df-container\">\n",
              "      <div>\n",
              "<style scoped>\n",
              "    .dataframe tbody tr th:only-of-type {\n",
              "        vertical-align: middle;\n",
              "    }\n",
              "\n",
              "    .dataframe tbody tr th {\n",
              "        vertical-align: top;\n",
              "    }\n",
              "\n",
              "    .dataframe thead th {\n",
              "        text-align: right;\n",
              "    }\n",
              "</style>\n",
              "<table border=\"1\" class=\"dataframe\">\n",
              "  <thead>\n",
              "    <tr style=\"text-align: right;\">\n",
              "      <th></th>\n",
              "      <th>id</th>\n",
              "      <th>Gender</th>\n",
              "      <th>Age</th>\n",
              "      <th>Driving_License</th>\n",
              "      <th>Region_Code</th>\n",
              "      <th>Previously_Insured</th>\n",
              "      <th>Vehicle_Age</th>\n",
              "      <th>Vehicle_Damage</th>\n",
              "      <th>Annual_Premium</th>\n",
              "      <th>Policy_Sales_Channel</th>\n",
              "      <th>Vintage</th>\n",
              "      <th>Response</th>\n",
              "    </tr>\n",
              "  </thead>\n",
              "  <tbody>\n",
              "    <tr>\n",
              "      <th>0</th>\n",
              "      <td>1</td>\n",
              "      <td>Male</td>\n",
              "      <td>44</td>\n",
              "      <td>1</td>\n",
              "      <td>28.0</td>\n",
              "      <td>0</td>\n",
              "      <td>&gt; 2 Years</td>\n",
              "      <td>Yes</td>\n",
              "      <td>40454.0</td>\n",
              "      <td>26.0</td>\n",
              "      <td>217</td>\n",
              "      <td>1</td>\n",
              "    </tr>\n",
              "    <tr>\n",
              "      <th>1</th>\n",
              "      <td>2</td>\n",
              "      <td>Male</td>\n",
              "      <td>76</td>\n",
              "      <td>1</td>\n",
              "      <td>3.0</td>\n",
              "      <td>0</td>\n",
              "      <td>1-2 Year</td>\n",
              "      <td>No</td>\n",
              "      <td>33536.0</td>\n",
              "      <td>26.0</td>\n",
              "      <td>183</td>\n",
              "      <td>0</td>\n",
              "    </tr>\n",
              "    <tr>\n",
              "      <th>2</th>\n",
              "      <td>3</td>\n",
              "      <td>Male</td>\n",
              "      <td>47</td>\n",
              "      <td>1</td>\n",
              "      <td>28.0</td>\n",
              "      <td>0</td>\n",
              "      <td>&gt; 2 Years</td>\n",
              "      <td>Yes</td>\n",
              "      <td>38294.0</td>\n",
              "      <td>26.0</td>\n",
              "      <td>27</td>\n",
              "      <td>1</td>\n",
              "    </tr>\n",
              "    <tr>\n",
              "      <th>3</th>\n",
              "      <td>4</td>\n",
              "      <td>Male</td>\n",
              "      <td>21</td>\n",
              "      <td>1</td>\n",
              "      <td>11.0</td>\n",
              "      <td>1</td>\n",
              "      <td>&lt; 1 Year</td>\n",
              "      <td>No</td>\n",
              "      <td>28619.0</td>\n",
              "      <td>152.0</td>\n",
              "      <td>203</td>\n",
              "      <td>0</td>\n",
              "    </tr>\n",
              "    <tr>\n",
              "      <th>4</th>\n",
              "      <td>5</td>\n",
              "      <td>Female</td>\n",
              "      <td>29</td>\n",
              "      <td>1</td>\n",
              "      <td>41.0</td>\n",
              "      <td>1</td>\n",
              "      <td>&lt; 1 Year</td>\n",
              "      <td>No</td>\n",
              "      <td>27496.0</td>\n",
              "      <td>152.0</td>\n",
              "      <td>39</td>\n",
              "      <td>0</td>\n",
              "    </tr>\n",
              "  </tbody>\n",
              "</table>\n",
              "</div>\n",
              "      <button class=\"colab-df-convert\" onclick=\"convertToInteractive('df-408d0c53-d226-4b2e-a002-5ae6645f226c')\"\n",
              "              title=\"Convert this dataframe to an interactive table.\"\n",
              "              style=\"display:none;\">\n",
              "        \n",
              "  <svg xmlns=\"http://www.w3.org/2000/svg\" height=\"24px\"viewBox=\"0 0 24 24\"\n",
              "       width=\"24px\">\n",
              "    <path d=\"M0 0h24v24H0V0z\" fill=\"none\"/>\n",
              "    <path d=\"M18.56 5.44l.94 2.06.94-2.06 2.06-.94-2.06-.94-.94-2.06-.94 2.06-2.06.94zm-11 1L8.5 8.5l.94-2.06 2.06-.94-2.06-.94L8.5 2.5l-.94 2.06-2.06.94zm10 10l.94 2.06.94-2.06 2.06-.94-2.06-.94-.94-2.06-.94 2.06-2.06.94z\"/><path d=\"M17.41 7.96l-1.37-1.37c-.4-.4-.92-.59-1.43-.59-.52 0-1.04.2-1.43.59L10.3 9.45l-7.72 7.72c-.78.78-.78 2.05 0 2.83L4 21.41c.39.39.9.59 1.41.59.51 0 1.02-.2 1.41-.59l7.78-7.78 2.81-2.81c.8-.78.8-2.07 0-2.86zM5.41 20L4 18.59l7.72-7.72 1.47 1.35L5.41 20z\"/>\n",
              "  </svg>\n",
              "      </button>\n",
              "      \n",
              "  <style>\n",
              "    .colab-df-container {\n",
              "      display:flex;\n",
              "      flex-wrap:wrap;\n",
              "      gap: 12px;\n",
              "    }\n",
              "\n",
              "    .colab-df-convert {\n",
              "      background-color: #E8F0FE;\n",
              "      border: none;\n",
              "      border-radius: 50%;\n",
              "      cursor: pointer;\n",
              "      display: none;\n",
              "      fill: #1967D2;\n",
              "      height: 32px;\n",
              "      padding: 0 0 0 0;\n",
              "      width: 32px;\n",
              "    }\n",
              "\n",
              "    .colab-df-convert:hover {\n",
              "      background-color: #E2EBFA;\n",
              "      box-shadow: 0px 1px 2px rgba(60, 64, 67, 0.3), 0px 1px 3px 1px rgba(60, 64, 67, 0.15);\n",
              "      fill: #174EA6;\n",
              "    }\n",
              "\n",
              "    [theme=dark] .colab-df-convert {\n",
              "      background-color: #3B4455;\n",
              "      fill: #D2E3FC;\n",
              "    }\n",
              "\n",
              "    [theme=dark] .colab-df-convert:hover {\n",
              "      background-color: #434B5C;\n",
              "      box-shadow: 0px 1px 3px 1px rgba(0, 0, 0, 0.15);\n",
              "      filter: drop-shadow(0px 1px 2px rgba(0, 0, 0, 0.3));\n",
              "      fill: #FFFFFF;\n",
              "    }\n",
              "  </style>\n",
              "\n",
              "      <script>\n",
              "        const buttonEl =\n",
              "          document.querySelector('#df-408d0c53-d226-4b2e-a002-5ae6645f226c button.colab-df-convert');\n",
              "        buttonEl.style.display =\n",
              "          google.colab.kernel.accessAllowed ? 'block' : 'none';\n",
              "\n",
              "        async function convertToInteractive(key) {\n",
              "          const element = document.querySelector('#df-408d0c53-d226-4b2e-a002-5ae6645f226c');\n",
              "          const dataTable =\n",
              "            await google.colab.kernel.invokeFunction('convertToInteractive',\n",
              "                                                     [key], {});\n",
              "          if (!dataTable) return;\n",
              "\n",
              "          const docLinkHtml = 'Like what you see? Visit the ' +\n",
              "            '<a target=\"_blank\" href=https://colab.research.google.com/notebooks/data_table.ipynb>data table notebook</a>'\n",
              "            + ' to learn more about interactive tables.';\n",
              "          element.innerHTML = '';\n",
              "          dataTable['output_type'] = 'display_data';\n",
              "          await google.colab.output.renderOutput(dataTable, element);\n",
              "          const docLink = document.createElement('div');\n",
              "          docLink.innerHTML = docLinkHtml;\n",
              "          element.appendChild(docLink);\n",
              "        }\n",
              "      </script>\n",
              "    </div>\n",
              "  </div>\n",
              "  "
            ],
            "text/plain": [
              "   id  Gender  Age  Driving_License  Region_Code  Previously_Insured  \\\n",
              "0   1    Male   44                1         28.0                   0   \n",
              "1   2    Male   76                1          3.0                   0   \n",
              "2   3    Male   47                1         28.0                   0   \n",
              "3   4    Male   21                1         11.0                   1   \n",
              "4   5  Female   29                1         41.0                   1   \n",
              "\n",
              "  Vehicle_Age Vehicle_Damage  Annual_Premium  Policy_Sales_Channel  Vintage  \\\n",
              "0   > 2 Years            Yes         40454.0                  26.0      217   \n",
              "1    1-2 Year             No         33536.0                  26.0      183   \n",
              "2   > 2 Years            Yes         38294.0                  26.0       27   \n",
              "3    < 1 Year             No         28619.0                 152.0      203   \n",
              "4    < 1 Year             No         27496.0                 152.0       39   \n",
              "\n",
              "   Response  \n",
              "0         1  \n",
              "1         0  \n",
              "2         1  \n",
              "3         0  \n",
              "4         0  "
            ]
          },
          "execution_count": 2,
          "metadata": {},
          "output_type": "execute_result"
        }
      ],
      "source": [
        "df_true = pd.read_csv(\"/content/train.csv\").replace('?',np.nan).dropna()\n",
        "print(df_true.shape)\n",
        "df_true.head()"
      ]
    },
    {
      "cell_type": "markdown",
      "metadata": {
        "id": "WKaTgibSnMtS"
      },
      "source": [
        "This section drops the \"id\" column from the dataframe \"df_true\"."
      ]
    },
    {
      "cell_type": "code",
      "execution_count": null,
      "metadata": {
        "id": "0SazLoJ1nMtT"
      },
      "outputs": [],
      "source": [
        "# Remove ID column\n",
        "df_true.drop('id', axis=1, inplace=True)\n"
      ]
    },
    {
      "cell_type": "markdown",
      "metadata": {
        "id": "MCzatXSxnMtT"
      },
      "source": [
        "This section one-hot encodes the categorical variables \"Gender\", \"Vehicle_Age\", and \"Vehicle_Damage\" in the \"df_true\" dataframe."
      ]
    },
    {
      "cell_type": "code",
      "execution_count": null,
      "metadata": {
        "id": "CFWWsxDwnMtT"
      },
      "outputs": [],
      "source": [
        "# One-hot encode categorical variables\n",
        "df_true = pd.get_dummies(df_true, columns=['Gender', 'Vehicle_Age', 'Vehicle_Damage'])\n"
      ]
    },
    {
      "cell_type": "markdown",
      "metadata": {
        "id": "riNs53_InMtU"
      },
      "source": [
        "This section normalizes the numerical variables \"Age\", \"Region_Code\", \"Annual_Premium\", and \"Vintage\" in the \"df_true\" dataframe."
      ]
    },
    {
      "cell_type": "code",
      "execution_count": null,
      "metadata": {
        "id": "6IwxU16hnMtU"
      },
      "outputs": [],
      "source": [
        "# Normalize numerical variables\n",
        "cols_to_normalize = ['Age', 'Region_Code', 'Annual_Premium', 'Vintage']\n",
        "df_true[cols_to_normalize] = (df_true[cols_to_normalize] - df_true[cols_to_normalize].mean()) / df_true[cols_to_normalize].std()\n"
      ]
    },
    {
      "cell_type": "markdown",
      "metadata": {
        "id": "vGJybwuhnMtV"
      },
      "source": [
        "This section converts the \"df_true\" dataframe to a numpy array of type float32 and assigns it to the \"data_true\" variable."
      ]
    },
    {
      "cell_type": "code",
      "execution_count": null,
      "metadata": {
        "id": "3JCfor5OnMtW"
      },
      "outputs": [],
      "source": [
        "# Convert dataset to numpy array\n",
        "data_true = df_true.values.astype(np.float32)\n"
      ]
    },
    {
      "cell_type": "markdown",
      "metadata": {
        "id": "pPAss3XNnMtW"
      },
      "source": [
        "This section defines the generator model using Keras API. "
      ]
    },
    {
      "cell_type": "code",
      "execution_count": null,
      "metadata": {
        "id": "mqeDvv84nMtX"
      },
      "outputs": [],
      "source": [
        "# Define the generator model\n",
        "def make_generator_model():\n",
        "    model = tf.keras.Sequential()\n",
        "    model.add(layers.Dense(256, input_shape=(100,), use_bias=False))\n",
        "    model.add(layers.BatchNormalization())\n",
        "    model.add(layers.LeakyReLU())\n",
        "\n",
        "    model.add(layers.Dense(512, use_bias=False))\n",
        "    model.add(layers.BatchNormalization())\n",
        "    model.add(layers.LeakyReLU())\n",
        "\n",
        "    model.add(layers.Dense(1024, use_bias=False))\n",
        "    model.add(layers.BatchNormalization())\n",
        "    model.add(layers.LeakyReLU())\n",
        "\n",
        "    model.add(layers.Dense(data_true.shape[1], activation='tanh'))\n",
        "\n",
        "    return model\n"
      ]
    },
    {
      "cell_type": "markdown",
      "metadata": {
        "id": "qkzAetgAnMtX"
      },
      "source": [
        "Define the discriminator model\n",
        "This section defines a function called make_discriminator_model() "
      ]
    },
    {
      "cell_type": "code",
      "execution_count": null,
      "metadata": {
        "id": "A2cdnrSMnMta"
      },
      "outputs": [],
      "source": [
        "\n",
        "# Define the discriminator model\n",
        "def make_discriminator_model():\n",
        "    model = tf.keras.Sequential()\n",
        "    model.add(layers.Dense(1024, input_shape=(data_true.shape[1],)))\n",
        "    model.add(layers.LeakyReLU())\n",
        "    model.add(layers.Dropout(0.3))\n",
        "\n",
        "    model.add(layers.Dense(512))\n",
        "    model.add(layers.LeakyReLU())\n",
        "    model.add(layers.Dropout(0.3))\n",
        "\n",
        "    model.add(layers.Dense(256))\n",
        "    model.add(layers.LeakyReLU())\n",
        "\n",
        "    model.add(layers.Dense(1))\n",
        "\n",
        "    return model"
      ]
    },
    {
      "cell_type": "markdown",
      "metadata": {
        "id": "auus_qFhnMtb"
      },
      "source": [
        "Define the loss functions\n"
      ]
    },
    {
      "cell_type": "markdown",
      "metadata": {
        "id": "4H3Bz48enMtb"
      },
      "source": [
        "Define the optimizers\n"
      ]
    },
    {
      "cell_type": "code",
      "execution_count": null,
      "metadata": {
        "id": "QBwkf8ZcnMtc"
      },
      "outputs": [],
      "source": [
        "# Define the loss functions\n",
        "cross_entropy = tf.keras.losses.BinaryCrossentropy(from_logits=True)\n",
        "\n",
        "def discriminator_loss(real_output, fake_output):\n",
        "    real_loss = cross_entropy(tf.ones_like(real_output), real_output)\n",
        "    fake_loss = cross_entropy(tf.zeros_like(fake_output), fake_output)\n",
        "    total_loss = real_loss + fake_loss\n",
        "    return total_loss\n",
        "\n",
        "def generator_loss(fake_output):\n",
        "    return cross_entropy(tf.ones_like(fake_output), fake_output)\n",
        "\n",
        "# Define the optimizers\n",
        "generator_optimizer = tf.keras.optimizers.Adam(1e-4)\n",
        "discriminator_optimizer = tf.keras.optimizers.Adam(1e-4)"
      ]
    },
    {
      "cell_type": "markdown",
      "metadata": {
        "id": "zZ7XBHWFnMtd"
      },
      "source": [
        "\n",
        "evaluation metrics"
      ]
    },
    {
      "cell_type": "code",
      "execution_count": null,
      "metadata": {
        "id": "8V7iq-1JnMtd"
      },
      "outputs": [],
      "source": [
        "from sklearn.metrics import r2_score, mean_squared_error, mean_absolute_error\n",
        "from scipy.stats import ks_2samp\n",
        "def evaluate_accuracy(df_true, df_fake):\n",
        "\n",
        "    # Check for NaN values and remove them\n",
        "    df_true = df_true.dropna()\n",
        "    df_fake = df_fake.dropna()\n",
        "\n",
        "    # Calculate mean squared error\n",
        "    mse = mean_squared_error(df_true, df_fake)\n",
        "\n",
        "    # Calculate correlation\n",
        "    corr = np.corrcoef(df_true.values.flatten(), df_fake.values.flatten())[0, 1]\n",
        "\n",
        "    # Calculate Kolmogorov-Smirnov distance\n",
        "    ks_dist = ks_2samp(df_true.values.flatten(), df_fake.values.flatten())[0]\n",
        "\n",
        "    # Calculate the percentage of accuracy\n",
        "    accuracy = (1 - (abs(df_fake - df_true) / df_true).mean()) * 100\n",
        "\n",
        "    return {\"MSE\": mse, \"Correlation\": corr, \"KS distance\": ks_dist, \"Accuracy\": accuracy}\n",
        "\n"
      ]
    },
    {
      "cell_type": "markdown",
      "metadata": {
        "id": "lo-3W3jmnMth"
      },
      "source": [
        "Define the number of epochs and batch size"
      ]
    },
    {
      "cell_type": "code",
      "execution_count": null,
      "metadata": {
        "id": "Q_EA8oo5nMth"
      },
      "outputs": [],
      "source": [
        "\n",
        "EPOCHS = 50\n",
        "BATCH_SIZE = 256"
      ]
    },
    {
      "cell_type": "markdown",
      "metadata": {
        "id": "AAvzrb37nMti"
      },
      "source": [
        "Define the number of latent dimensions\n"
      ]
    },
    {
      "cell_type": "code",
      "execution_count": null,
      "metadata": {
        "id": "C50GPm72nMti"
      },
      "outputs": [],
      "source": [
        "noise_dim = 100\n",
        "latent_dim = 100"
      ]
    },
    {
      "cell_type": "markdown",
      "metadata": {
        "id": "gbuuMgMHnMtj"
      },
      "source": [
        " Instantiate the generator and discriminator models\n"
      ]
    },
    {
      "cell_type": "code",
      "execution_count": null,
      "metadata": {
        "id": "W98h_m6fnMtj"
      },
      "outputs": [],
      "source": [
        "generator = make_generator_model()\n",
        "discriminator = make_discriminator_model()"
      ]
    },
    {
      "cell_type": "markdown",
      "metadata": {
        "id": "9TslmnTbnMtj"
      },
      "source": [
        "Define the optimizer\n"
      ]
    },
    {
      "cell_type": "code",
      "execution_count": null,
      "metadata": {
        "id": "95He8UyZnMtj"
      },
      "outputs": [],
      "source": [
        "generator_optimizer = tf.keras.optimizers.Adam(1e-4)\n",
        "discriminator_optimizer = tf.keras.optimizers.Adam(1e-4)"
      ]
    },
    {
      "cell_type": "markdown",
      "metadata": {
        "id": "R7IuitvWnMtk"
      },
      "source": [
        "# Define the training loop"
      ]
    },
    {
      "cell_type": "code",
      "execution_count": null,
      "metadata": {
        "id": "2Tt4ifdXnMtk"
      },
      "outputs": [],
      "source": [
        "\n",
        "@tf.function\n",
        "def train_step(data_true):\n",
        "    # Generate noise\n",
        "    noise = tf.random.normal([BATCH_SIZE, noise_dim])\n",
        "\n",
        "    # Gradient tape to record operations for automatic differentiation\n",
        "    with tf.GradientTape() as gen_tape, tf.GradientTape() as disc_tape:\n",
        "        # Generate fake data using the generator\n",
        "        data_fake = generator(noise, training=True)\n",
        "\n",
        "        # Get the discriminator's predictions for the real and fake data\n",
        "        real_output = discriminator(data_true, training=True)\n",
        "        fake_output = discriminator(data_fake, training=True)\n",
        "\n",
        "        # Calculate the loss for the generator and discriminator\n",
        "        gen_loss = generator_loss(fake_output)\n",
        "        disc_loss = discriminator_loss(real_output, fake_output)\n",
        "\n",
        "    # Calculate the gradients of the generator and discriminator\n",
        "    gradients_of_generator = gen_tape.gradient(gen_loss, generator.trainable_variables)\n",
        "    gradients_of_discriminator = disc_tape.gradient(disc_loss, discriminator.trainable_variables)\n",
        "\n",
        "    # Apply the gradients to the optimizer\n",
        "    generator_optimizer.apply_gradients(zip(gradients_of_generator, generator.trainable_variables))\n",
        "    discriminator_optimizer.apply_gradients(zip(gradients_of_discriminator, discriminator.trainable_variables))\n"
      ]
    },
    {
      "cell_type": "markdown",
      "metadata": {
        "id": "W429zPhXnMtl"
      },
      "source": [
        "# Generate data"
      ]
    },
    {
      "cell_type": "code",
      "execution_count": null,
      "metadata": {
        "id": "Hj4KZKgTnMtl"
      },
      "outputs": [],
      "source": [
        "def generate_data(n_samples):\n",
        "    # Generate noise\n",
        "    z = tf.random.normal((n_samples, latent_dim))\n",
        "    # Generate synthetic data\n",
        "    data_fake = generator(z, training=False)\n",
        "    # Normalize columns\n",
        "    data_fake = (data_fake - tf.math.reduce_mean(data_fake, axis=0)) / tf.math.reduce_std(data_fake, axis=0)\n",
        "    # Denormalize columns\n",
        "    data_fake = data_fake * df_true.std() + df_true.mean()\n",
        "    # Convert to dataframe\n",
        "    df_fake = pd.DataFrame(data_fake.numpy(), columns=df_true.columns)\n",
        "    return df_fake"
      ]
    },
    {
      "cell_type": "markdown",
      "metadata": {
        "id": "ht7om3TLnMtl"
      },
      "source": [
        "# EPOCHS\n"
      ]
    },
    {
      "cell_type": "code",
      "execution_count": null,
      "metadata": {
        "colab": {
          "base_uri": "https://localhost:8080/"
        },
        "id": "7xHe6I2BnMtm",
        "outputId": "de484328-2ebf-4cd1-8de5-cee80064143c"
      },
      "outputs": [
        {
          "name": "stdout",
          "output_type": "stream",
          "text": [
            "Epoch 0: Accuracy = {'MSE': 392.55436739131227, 'Correlation': 0.7981527542926853, 'KS distance': 0.20935760285552601, 'Accuracy': Age                      -15.344763\n",
            "Driving_License                -inf\n",
            "Region_Code              -81.644835\n",
            "Previously_Insured             -inf\n",
            "Annual_Premium           107.947334\n",
            "Policy_Sales_Channel     -72.567919\n",
            "Vintage                  130.863087\n",
            "Response                       -inf\n",
            "Gender_Female                  -inf\n",
            "Gender_Male                    -inf\n",
            "Vehicle_Age_1-2 Year           -inf\n",
            "Vehicle_Age_< 1 Year           -inf\n",
            "Vehicle_Age_> 2 Years          -inf\n",
            "Vehicle_Damage_No              -inf\n",
            "Vehicle_Damage_Yes             -inf\n",
            "dtype: float64}\n",
            "Epoch 10: Accuracy = {'MSE': 393.21516232201697, 'Correlation': 0.7978329591317547, 'KS distance': 0.2015094544255493, 'Accuracy': Age                      -14.685200\n",
            "Driving_License                -inf\n",
            "Region_Code             -137.872811\n",
            "Previously_Insured             -inf\n",
            "Annual_Premium            96.802507\n",
            "Policy_Sales_Channel     -76.931093\n",
            "Vintage                  138.250950\n",
            "Response                       -inf\n",
            "Gender_Female                  -inf\n",
            "Gender_Male                    -inf\n",
            "Vehicle_Age_1-2 Year           -inf\n",
            "Vehicle_Age_< 1 Year           -inf\n",
            "Vehicle_Age_> 2 Years          -inf\n",
            "Vehicle_Damage_No              -inf\n",
            "Vehicle_Damage_Yes             -inf\n",
            "dtype: float64}\n",
            "Epoch 20: Accuracy = {'MSE': 390.5099693790867, 'Correlation': 0.7984737010099621, 'KS distance': 0.23180349978615034, 'Accuracy': Age                       31.915839\n",
            "Driving_License                -inf\n",
            "Region_Code             -123.989660\n",
            "Previously_Insured             -inf\n",
            "Annual_Premium           228.543242\n",
            "Policy_Sales_Channel     -73.282884\n",
            "Vintage                  106.815959\n",
            "Response                       -inf\n",
            "Gender_Female                  -inf\n",
            "Gender_Male                    -inf\n",
            "Vehicle_Age_1-2 Year           -inf\n",
            "Vehicle_Age_< 1 Year           -inf\n",
            "Vehicle_Age_> 2 Years          -inf\n",
            "Vehicle_Damage_No              -inf\n",
            "Vehicle_Damage_Yes             -inf\n",
            "dtype: float64}\n",
            "Epoch 30: Accuracy = {'MSE': 392.79749677767444, 'Correlation': 0.7965714232594442, 'KS distance': 0.25611430500635424, 'Accuracy': Age                       28.862353\n",
            "Driving_License                -inf\n",
            "Region_Code              -88.334762\n",
            "Previously_Insured             -inf\n",
            "Annual_Premium           193.329715\n",
            "Policy_Sales_Channel     -59.790403\n",
            "Vintage                   88.302731\n",
            "Response                       -inf\n",
            "Gender_Female                  -inf\n",
            "Gender_Male                    -inf\n",
            "Vehicle_Age_1-2 Year           -inf\n",
            "Vehicle_Age_< 1 Year           -inf\n",
            "Vehicle_Age_> 2 Years          -inf\n",
            "Vehicle_Damage_No              -inf\n",
            "Vehicle_Damage_Yes             -inf\n",
            "dtype: float64}\n",
            "Epoch 40: Accuracy = {'MSE': 392.5350044330281, 'Correlation': 0.7816220258610772, 'KS distance': 0.28039817130182354, 'Accuracy': Age                       13.593453\n",
            "Driving_License                -inf\n",
            "Region_Code              -36.080075\n",
            "Previously_Insured             -inf\n",
            "Annual_Premium            89.310931\n",
            "Policy_Sales_Channel     -64.108159\n",
            "Vintage                  132.116701\n",
            "Response                       -inf\n",
            "Gender_Female                  -inf\n",
            "Gender_Male                    -inf\n",
            "Vehicle_Age_1-2 Year           -inf\n",
            "Vehicle_Age_< 1 Year           -inf\n",
            "Vehicle_Age_> 2 Years          -inf\n",
            "Vehicle_Damage_No              -inf\n",
            "Vehicle_Damage_Yes             -inf\n",
            "dtype: float64}\n"
          ]
        }
      ],
      "source": [
        "# Generate and evaluate synthetic data every 10 epochs\n",
        "for epoch in range(EPOCHS):\n",
        "    # Shuffle the data\n",
        "    np.random.shuffle(data_true)\n",
        "\n",
        "    # Split the data into batches\n",
        "    for i in range(0, data_true.shape[0], BATCH_SIZE):\n",
        "        data_batch = data_true[i:i+BATCH_SIZE]\n",
        "\n",
        "        # Train the discriminator\n",
        "        train_step(data_batch)\n",
        "\n",
        "    if epoch % 10 == 0:\n",
        "        # Generate synthetic data\n",
        "        df_fake = generate_data(data_true.shape[0])\n",
        "        \n",
        "        # Evaluate the accuracy of the synthetic data\n",
        "        accuracy = evaluate_accuracy(df_true, df_fake)\n",
        "        print(f\"Epoch {epoch}: Accuracy = {accuracy}\")\n",
        "\n"
      ]
    },
    {
      "cell_type": "markdown",
      "metadata": {
        "id": "cz9991JanMtn"
      },
      "source": [
        "# Final accuracy\n"
      ]
    },
    {
      "cell_type": "code",
      "execution_count": null,
      "metadata": {
        "colab": {
          "base_uri": "https://localhost:8080/"
        },
        "id": "JuXMkK8onMto",
        "outputId": "3cba9b50-50fb-4635-a2b8-6c48342188a2"
      },
      "outputs": [
        {
          "name": "stdout",
          "output_type": "stream",
          "text": [
            "Final Accuracy = {'MSE': 392.7353720367244, 'Correlation': 0.7808339510071931, 'KS distance': 0.22696743801204722, 'Accuracy': Age                      -23.482772\n",
            "Driving_License                -inf\n",
            "Region_Code              -81.562040\n",
            "Previously_Insured             -inf\n",
            "Annual_Premium           197.624569\n",
            "Policy_Sales_Channel     -64.701854\n",
            "Vintage                  157.040570\n",
            "Response                       -inf\n",
            "Gender_Female                  -inf\n",
            "Gender_Male                    -inf\n",
            "Vehicle_Age_1-2 Year           -inf\n",
            "Vehicle_Age_< 1 Year           -inf\n",
            "Vehicle_Age_> 2 Years          -inf\n",
            "Vehicle_Damage_No              -inf\n",
            "Vehicle_Damage_Yes             -inf\n",
            "dtype: float64}\n"
          ]
        }
      ],
      "source": [
        "# Evaluate the accuracy of the final synthetic data\n",
        "df_fake = generate_data(data_true.shape[0])\n",
        "accuracy = evaluate_accuracy(df_true, df_fake)\n",
        "print(f\"Final Accuracy = {accuracy}\")\n"
      ]
    },
    {
      "cell_type": "code",
      "execution_count": null,
      "metadata": {
        "colab": {
          "base_uri": "https://localhost:8080/"
        },
        "id": "vgbTY96KnMtp",
        "outputId": "9666a5b8-cff5-463e-92a7-fa7939e0ff0b"
      },
      "outputs": [
        {
          "name": "stdout",
          "output_type": "stream",
          "text": [
            "<class 'pandas.core.frame.DataFrame'>\n",
            "RangeIndex: 381109 entries, 0 to 381108\n",
            "Data columns (total 15 columns):\n",
            " #   Column                 Non-Null Count   Dtype  \n",
            "---  ------                 --------------   -----  \n",
            " 0   Age                    381109 non-null  float32\n",
            " 1   Driving_License        381109 non-null  float32\n",
            " 2   Region_Code            381109 non-null  float32\n",
            " 3   Previously_Insured     381109 non-null  float32\n",
            " 4   Annual_Premium         381109 non-null  float32\n",
            " 5   Policy_Sales_Channel   381109 non-null  float32\n",
            " 6   Vintage                381109 non-null  float32\n",
            " 7   Response               381109 non-null  float32\n",
            " 8   Gender_Female          381109 non-null  float32\n",
            " 9   Gender_Male            381109 non-null  float32\n",
            " 10  Vehicle_Age_1-2 Year   381109 non-null  float32\n",
            " 11  Vehicle_Age_< 1 Year   381109 non-null  float32\n",
            " 12  Vehicle_Age_> 2 Years  381109 non-null  float32\n",
            " 13  Vehicle_Damage_No      381109 non-null  float32\n",
            " 14  Vehicle_Damage_Yes     381109 non-null  float32\n",
            "dtypes: float32(15)\n",
            "memory usage: 21.8 MB\n"
          ]
        }
      ],
      "source": [
        "df_fake.info()"
      ]
    },
    {
      "cell_type": "code",
      "execution_count": null,
      "metadata": {
        "id": "dgLijrB1oegV"
      },
      "outputs": [],
      "source": [
        "df_fake.to_csv('/content/df_fake.csv', index= True)"
      ]
    },
    {
      "cell_type": "code",
      "execution_count": null,
      "metadata": {
        "colab": {
          "base_uri": "https://localhost:8080/",
          "height": 345
        },
        "id": "9UX8aTNE56ZU",
        "outputId": "ffd56c84-3804-4276-c9e7-8e9200298534"
      },
      "outputs": [
        {
          "data": {
            "image/png": "[encoded data removed]",
            "text/plain": [
              "<Figure size 864x432 with 1 Axes>"
            ]
          },
          "metadata": {
            "needs_background": "light"
          },
          "output_type": "display_data"
        }
      ],
      "source": [
        "import seaborn as sns\n",
        "import matplotlib.pyplot as plt\n",
        "\n",
        "# Set the figure size\n",
        "plt.figure(figsize=(12, 6))\n",
        "\n",
        "# Histograms\n",
        "sns.histplot(data=df_true, x=\"Driving_License\", label=\"True data\", alpha=0.5)\n",
        "sns.histplot(data=df_fake, x=\"Driving_License\", label=\"Synthetic data\", alpha=0.5)\n",
        "plt.legend()\n",
        "plt.title(\"Histogram of Driving_License in True and Synthetic data\")\n",
        "plt.show()\n"
      ]
    },
    {
      "cell_type": "code",
      "execution_count": null,
      "metadata": {
        "colab": {
          "base_uri": "https://localhost:8080/",
          "height": 295
        },
        "id": "xKdU3Xv968w0",
        "outputId": "465987df-94f4-4d1d-fea5-c096c4d7547d"
      },
      "outputs": [
        {
          "data": {
            "image/png": "[encoded data removed]",
            "text/plain": [
              "<Figure size 432x288 with 1 Axes>"
            ]
          },
          "metadata": {
            "needs_background": "light"
          },
          "output_type": "display_data"
        }
      ],
      "source": [
        "\n",
        "# Box plots\n",
        "sns.boxplot(data=pd.concat([df_true.assign(dataset=\"True data\"), df_fake.assign(dataset=\"Synthetic data\")]), x=\"dataset\", y=\"Previously_Insured\")\n",
        "plt.title(\"Box plot of Previously_Insured in True and Synthetic data\")\n",
        "plt.show()\n",
        "\n"
      ]
    },
    {
      "cell_type": "code",
      "execution_count": null,
      "metadata": {
        "colab": {
          "base_uri": "https://localhost:8080/",
          "height": 295
        },
        "id": "VaRKBV0f7Fvp",
        "outputId": "57eeb355-8ce9-406a-fcde-b814a8f0f55b"
      },
      "outputs": [
        {
          "data": {
            "image/png": "[encoded data removed]",
            "text/plain": [
              "<Figure size 432x288 with 1 Axes>"
            ]
          },
          "metadata": {
            "needs_background": "light"
          },
          "output_type": "display_data"
        }
      ],
      "source": [
        "# Kernel density plots\n",
        "sns.kdeplot(data=df_true, x=\"Vintage\", label=\"True data\")\n",
        "sns.kdeplot(data=df_fake, x=\"Vintage\", label=\"Synthetic data\")\n",
        "plt.legend()\n",
        "plt.title(\"Kernel density plot of Vintage in True and Synthetic data\")\n",
        "plt.show()\n",
        "\n"
      ]
    },
    {
      "cell_type": "code",
      "execution_count": null,
      "metadata": {
        "id": "p4-IrERChelx",
        "outputId": "19990fc9-badb-4176-ac46-7a3bef9c35c6"
      },
      "outputs": [
        {
          "ename": "SyntaxError",
          "evalue": "invalid syntax (1673223192.py, line 1)",
          "output_type": "error",
          "traceback": [
            "\u001b[0;36m  Cell \u001b[0;32mIn[1], line 1\u001b[0;36m\u001b[0m\n\u001b[0;31m    jupyter nbconvert --to pdf notebook.ipynb\u001b[0m\n\u001b[0m            ^\u001b[0m\n\u001b[0;31mSyntaxError\u001b[0m\u001b[0;31m:\u001b[0m invalid syntax\n"
          ]
        }
      ],
      "source": [
        " jupyter nbconvert --to pdf notebook.ipynb"
      ]
    },
    {
      "cell_type": "code",
      "execution_count": null,
      "metadata": {
        "id": "sldpe1I7hely"
      },
      "outputs": [],
      "source": []
    }
  ],
  "metadata": {
    "accelerator": "GPU",
    "colab": {
      "provenance": [],
      "include_colab_link": true
    },
    "gpuClass": "standard",
    "kernelspec": {
      "display_name": "Python 3",
      "language": "python",
      "name": "python3"
    },
    "language_info": {
      "codemirror_mode": {
        "name": "ipython",
        "version": 3
      },
      "file_extension": ".py",
      "mimetype": "text/x-python",
      "name": "python",
      "nbconvert_exporter": "python",
      "pygments_lexer": "ipython3",
      "version": "3.10.9"
    },
    "orig_nbformat": 4
  },
  "nbformat": 4,
  "nbformat_minor": 0
}